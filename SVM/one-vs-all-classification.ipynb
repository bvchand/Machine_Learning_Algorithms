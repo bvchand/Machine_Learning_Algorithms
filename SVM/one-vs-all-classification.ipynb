{
 "cells": [
  {
   "cell_type": "code",
   "execution_count": 2,
   "metadata": {
    "id": "0BjngL32-czW"
   },
   "outputs": [],
   "source": [
    "import numpy as np\n",
    "import math\n",
    "import pandas as pd\n",
    "import matplotlib.pyplot as plt\n",
    "plt.style.use('seaborn')\n",
    "import sklearn\n",
    "from sklearn.svm import SVC\n",
    "from sklearn.model_selection import KFold\n",
    "from sklearn.model_selection import GridSearchCV\n",
    "from sklearn.model_selection import cross_val_score\n",
    "from scipy import interpolate"
   ]
  },
  {
   "cell_type": "code",
   "execution_count": 3,
   "metadata": {
    "id": "U9X3ygVX-cza"
   },
   "outputs": [],
   "source": [
    "#digits dataset for input samples\n",
    "def extract_dataset(f):\n",
    "    data = []\n",
    "    for line in f:\n",
    "        if (line.split()[0] == \"1.0000\"):\n",
    "            data.append(line.split())\n",
    "        else:\n",
    "            data.append(line.split())\n",
    "\n",
    "    #changing the values of 5.0000 to -1 and 1.0000 the value of 1\n",
    "    df = pd.DataFrame(data)\n",
    "\n",
    "    \n",
    "    df.loc[(df[0] != \"1.0000\"),0]= -1\n",
    "    df[0] = df[0].replace([\"1.0000\"], 1)   \n",
    "\n",
    "    for col in df.columns:\n",
    "        df[col] = df[col].astype(float)\n",
    "\n",
    "    features, rows, cols = extract_features(df)\n",
    "    \n",
    "    return features, rows, cols, df[0].astype(int)\n",
    "\n",
    "def extract_features(df):\n",
    "    rows, cols = df.shape\n",
    "    features = np.zeros(shape = (rows,3))\n",
    "    \n",
    "    df1 = df.copy()\n",
    "    df1 = df1.drop(0,axis=1)\n",
    "    \n",
    "    #extracting the intensity from the dataset\n",
    "    for i in range(rows):\n",
    "        mean_int = df1.loc[i,0:255].mean()\n",
    "        features[i][0] = 1\n",
    "        features[i][1] = mean_int\n",
    "    \n",
    "\n",
    "    flipped_df = df.loc[:, :1:-1]\n",
    "    flipped_df.columns = df1.columns\n",
    "    diff = pd.DataFrame()\n",
    "    diff = abs(df1.subtract(flipped_df))\n",
    "    \n",
    "    #extracting the symmetry from the dataset\n",
    "    for i in range(rows):\n",
    "        mean_sym = diff.loc[i,0:255].mean()\n",
    "        features[i][0] = 1\n",
    "        features[i][2] =  mean_sym*-1\n",
    "\n",
    "    return features, rows, cols"
   ]
  },
  {
   "cell_type": "code",
   "execution_count": 15,
   "metadata": {},
   "outputs": [],
   "source": [
    "def bar_plot(cv_error, in_sample_error):\n",
    "    # set width of bar\n",
    "    barWidth = 0.25\n",
    "\n",
    "    # Set position of bar on X axis\n",
    "    r1 = np.arange(len(cv_error))\n",
    "    r2 = [x + barWidth for x in r1]\n",
    "\n",
    "    # Make the plot\n",
    "    plt.bar(r1, cv_error, color='steelblue', width=barWidth, edgecolor='white', label='cv_error')\n",
    "    plt.bar(r2, in_sample_error, color='darksalmon', width=barWidth, edgecolor='white', label='in_sample_error')\n",
    "\n",
    "    # Add xticks on the middle of the group bars\n",
    "    plt.ylabel('Error', fontweight='bold')\n",
    "    plt.xlabel('Regularization parameter', fontweight='bold')\n",
    "    plt.xticks([r + barWidth for r in range(len(cv_error))], [0.01, 0.1, 1, 10, 100])\n",
    "    plt.title(\"When C is very low, the model unerfits the data. As C increases, E_cv and E_in are similar.\")\n",
    "\n",
    "    # Create legend & Show graphic\n",
    "    plt.legend()\n",
    "    plt.show()"
   ]
  },
  {
   "cell_type": "code",
   "execution_count": 5,
   "metadata": {
    "id": "Cru2EgB5zS_K"
   },
   "outputs": [],
   "source": [
    "f_train = open(\"/Users/bharathi/Documents/Digits/ZipDigits.train\", \"r\")\n",
    "X, rows, cols, y = extract_dataset(f_train)\n",
    "\n",
    "f_test = open(\"/Users/bharathi/Documents/Digits/ZipDigits.test\", \"r\")\n",
    "X_testdata, test_rows, test_cols, y_testdata = extract_dataset(f_test)"
   ]
  },
  {
   "cell_type": "markdown",
   "metadata": {},
   "source": [
    "### Problem 2:"
   ]
  },
  {
   "cell_type": "markdown",
   "metadata": {
    "id": "NFWfXgNkrspG"
   },
   "source": [
    "#### SVM classifier using the linear kernel"
   ]
  },
  {
   "cell_type": "code",
   "execution_count": 16,
   "metadata": {
    "colab": {
     "base_uri": "https://localhost:8080/"
    },
    "id": "R-R1ixTUFw5u",
    "outputId": "1779d3df-5ea6-488e-d7eb-6294e0038edd"
   },
   "outputs": [
    {
     "name": "stdout",
     "output_type": "stream",
     "text": [
      "        CV Error  In-sample Error\n",
      "C                                \n",
      "0.01    0.137841         0.113290\n",
      "0.10    0.019202         0.019202\n",
      "1.00    0.019065         0.019065\n",
      "10.00   0.019202         0.019476\n",
      "100.00  0.019202         0.019613\n",
      "\n",
      "C:  1.0   CV Error:  0.0190646768414392\n"
     ]
    },
    {
     "data": {
      "image/png": "[encoded data removed]",
      "text/plain": [
       "<Figure size 576x396 with 1 Axes>"
      ]
     },
     "metadata": {},
     "output_type": "display_data"
    }
   ],
   "source": [
    "linear_kernel = pd.DataFrame()\n",
    "linear_kernel['C'] = [0.01, 0.1, 1, 10, 100]\n",
    "linear_kernel = linear_kernel.set_index('C')\n",
    "cv_error = []\n",
    "ein = []\n",
    "\n",
    "for c,row in linear_kernel.iterrows():\n",
    "    clf = SVC(kernel='linear', C=c)\n",
    "    score = cross_val_score(clf, X, y, cv=5, scoring=\"accuracy\")\n",
    "    cv_error.append(np.mean(1-score))\n",
    "    \n",
    "    clf.fit(X, y)\n",
    "    y_pred = clf.predict(X)\n",
    "    accuracy = sklearn.metrics.accuracy_score(y, y_pred)\n",
    "    ein.append(1 - accuracy)\n",
    "    \n",
    "linear_kernel['CV Error'], linear_kernel['In-sample Error'] = cv_error, ein\n",
    "print(linear_kernel)\n",
    "print()\n",
    "print(\"C: \", linear_kernel['CV Error'].idxmin(), \"  CV Error: \",linear_kernel['CV Error'].min())\n",
    "bar_plot(linear_kernel['CV Error'], linear_kernel['In-sample Error'])"
   ]
  },
  {
   "cell_type": "markdown",
   "metadata": {
    "id": "IeNoNGWJrzyQ"
   },
   "source": [
    "#### SVM classifier using the RBF kernel"
   ]
  },
  {
   "cell_type": "code",
   "execution_count": 17,
   "metadata": {
    "colab": {
     "base_uri": "https://localhost:8080/"
    },
    "id": "ZgkjMt5QqgEU",
    "outputId": "27a41e27-e5e6-422f-ddaa-777ac533ce1b"
   },
   "outputs": [
    {
     "name": "stdout",
     "output_type": "stream",
     "text": [
      "        CV Error  In-sample Error\n",
      "C                                \n",
      "0.01    0.129337         0.063777\n",
      "0.10    0.019065         0.018927\n",
      "1.00    0.018653         0.018653\n",
      "10.00   0.017144         0.017282\n",
      "100.00  0.017007         0.017007\n",
      "\n",
      "C:  100.0   CV Error:  0.01700725171138695\n"
     ]
    },
    {
     "data": {
      "image/png": "[encoded data removed]",
      "text/plain": [
       "<Figure size 576x396 with 1 Axes>"
      ]
     },
     "metadata": {},
     "output_type": "display_data"
    }
   ],
   "source": [
    "rbf_kernel = pd.DataFrame()\n",
    "rbf_kernel['C'] = [0.01, 0.1, 1, 10, 100]\n",
    "rbf_kernel = rbf_kernel.set_index('C')\n",
    "cv_error = []\n",
    "ein = []\n",
    "\n",
    "for c,row in rbf_kernel.iterrows():\n",
    "    clf = SVC(kernel='rbf', C=c)\n",
    "    score = cross_val_score(clf, X, y, cv=5, scoring=\"accuracy\")\n",
    "    cv_error.append(np.mean(1-score))\n",
    "\n",
    "    clf.fit(X, y)\n",
    "    y_pred = clf.predict(X)\n",
    "    accuracy = sklearn.metrics.accuracy_score(y, y_pred)\n",
    "    ein.append(1 - accuracy)\n",
    "\n",
    "rbf_kernel['CV Error'], rbf_kernel['In-sample Error'] = cv_error, ein\n",
    "print(rbf_kernel)\n",
    "print()\n",
    "print(\"C: \", rbf_kernel['CV Error'].idxmin(), \"  CV Error: \",rbf_kernel['CV Error'].min())\n",
    "bar_plot(rbf_kernel['CV Error'], rbf_kernel['In-sample Error'])"
   ]
  },
  {
   "cell_type": "markdown",
   "metadata": {
    "id": "oM-F6arzsOeW"
   },
   "source": [
    "#### SVM classifier using the polynomial kernel with degree=3"
   ]
  },
  {
   "cell_type": "code",
   "execution_count": 18,
   "metadata": {
    "colab": {
     "base_uri": "https://localhost:8080/"
    },
    "id": "EgqnDZUDqhwB",
    "outputId": "6ac281a2-db77-48ed-f121-595abd8f82a1"
   },
   "outputs": [
    {
     "name": "stdout",
     "output_type": "stream",
     "text": [
      "        CV Error  In-sample Error\n",
      "C                                \n",
      "0.01    0.053354         0.026745\n",
      "0.10    0.019476         0.019476\n",
      "1.00    0.019065         0.018653\n",
      "10.00   0.017556         0.017419\n",
      "100.00  0.017007         0.017007\n",
      "\n",
      "C:  100.0  CV Error:  0.01700725171138695\n"
     ]
    },
    {
     "data": {
      "image/png": "[encoded data removed]",
      "text/plain": [
       "<Figure size 576x396 with 1 Axes>"
      ]
     },
     "metadata": {},
     "output_type": "display_data"
    }
   ],
   "source": [
    "poly_kernel = pd.DataFrame()\n",
    "poly_kernel['C'] = [0.01, 0.1, 1, 10, 100]\n",
    "poly_kernel = poly_kernel.set_index('C')\n",
    "cv_error = []\n",
    "ein = []\n",
    "\n",
    "for c,row in poly_kernel.iterrows():\n",
    "    clf = SVC(kernel='poly', C=c, degree=3)\n",
    "    score = cross_val_score(clf, X, y, cv=5, scoring=\"accuracy\")\n",
    "    cv_error.append(np.mean(1-score))\n",
    "    \n",
    "    clf.fit(X, y)\n",
    "    y_pred = clf.predict(X)\n",
    "    accuracy = sklearn.metrics.accuracy_score(y, y_pred)\n",
    "    ein.append(1 - accuracy)\n",
    "  \n",
    "poly_kernel['CV Error'], poly_kernel['In-sample Error'] = cv_error, ein\n",
    "print(poly_kernel)\n",
    "print()\n",
    "print(\"C: \", poly_kernel['CV Error'].idxmin(), \" CV Error: \",poly_kernel['CV Error'].min())\n",
    "bar_plot(poly_kernel['CV Error'], poly_kernel['In-sample Error'])"
   ]
  },
  {
   "cell_type": "markdown",
   "metadata": {},
   "source": [
    "### Problem 3 - In-sample error for the best hypothesis"
   ]
  },
  {
   "cell_type": "raw",
   "metadata": {},
   "source": [
    "Both RBF and Polynomial kernels gives CV error = 0.017 for C=100.\n",
    "Since RBF kernel is less computationally intensive than polynomial kernel, RBF kernel is preferred."
   ]
  },
  {
   "cell_type": "code",
   "execution_count": 19,
   "metadata": {},
   "outputs": [
    {
     "name": "stdout",
     "output_type": "stream",
     "text": [
      "In-sample Error:  0.017007269236044453\n"
     ]
    }
   ],
   "source": [
    "clf_final = SVC(C = 100, kernel='rbf')\n",
    "clf_final.fit(X, y)\n",
    "y_pred = clf_final.predict(X)\n",
    "\n",
    "accuracy = sklearn.metrics.accuracy_score(y, y_pred, normalize=True)\n",
    "train_error = 1 - accuracy\n",
    "print(\"In-sample Error: \", train_error)"
   ]
  },
  {
   "cell_type": "markdown",
   "metadata": {},
   "source": [
    "### Problem 4 - Test error for the best hypothesis"
   ]
  },
  {
   "cell_type": "code",
   "execution_count": 20,
   "metadata": {},
   "outputs": [
    {
     "name": "stdout",
     "output_type": "stream",
     "text": [
      "Test error using the final hypothesis =  0.02291978076731438\n"
     ]
    }
   ],
   "source": [
    "y_pred_test = clf_final.predict(X_testdata)\n",
    "accuracy = sklearn.metrics.accuracy_score(y_testdata, y_pred_test)\n",
    "\n",
    "print(\"Test error using the final hypothesis = \", 1-accuracy)"
   ]
  }
 ],
 "metadata": {
  "accelerator": "GPU",
  "colab": {
   "collapsed_sections": [],
   "name": "HW4_Problem1.1",
   "provenance": []
  },
  "kernelspec": {
   "display_name": "Python 3",
   "language": "python",
   "name": "python3"
  },
  "language_info": {
   "codemirror_mode": {
    "name": "ipython",
    "version": 3
   },
   "file_extension": ".py",
   "mimetype": "text/x-python",
   "name": "python",
   "nbconvert_exporter": "python",
   "pygments_lexer": "ipython3",
   "version": "3.8.3"
  }
 },
 "nbformat": 4,
 "nbformat_minor": 4
}
